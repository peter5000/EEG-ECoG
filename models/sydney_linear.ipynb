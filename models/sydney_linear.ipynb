{
 "cells": [
  {
   "cell_type": "code",
   "execution_count": 1,
   "metadata": {},
   "outputs": [],
   "source": [
    "# Linear Regression model\n",
    "import sys\n",
    "import os\n",
    "sys.path.append(os.path.abspath('..')) # adding path for packages\n",
    "import torch\n",
    "import torch.nn as nn\n",
    "import torch.optim as optim\n",
    "from torch.utils.data import TensorDataset, DataLoader\n",
    "import matplotlib.pyplot as plt\n",
    "from sklearn.metrics import mean_squared_error, mean_absolute_error, r2_score\n",
    "import scipy.io\n",
    "from sklearn.model_selection import train_test_split\n",
    "from sklearn.preprocessing import StandardScaler\n",
    "import utils.data_preprocessing as dp\n",
    "import numpy as np"
   ]
  },
  {
   "cell_type": "code",
   "execution_count": 2,
   "metadata": {},
   "outputs": [
    {
     "name": "stdout",
     "output_type": "stream",
     "text": [
      "(129, 319234)\n",
      "(129, 319234)\n"
     ]
    }
   ],
   "source": [
    "data_X = dp.loadMatFile('../../Datasets/20110607S2_EEGandECoG_Su_Oosugi_ECoG128-EEG18/20110607S2_EEGECoG_Su_Oosugi_ECoG128-EEG18_mat/ECoG05_anesthesia.mat')\n",
    "data_y = dp.loadMatFile('../../Datasets/20110607S2_EEGandECoG_Su_Oosugi_ECoG128-EEG18/20110607S2_EEGECoG_Su_Oosugi_ECoG128-EEG18_mat/ECoG05_anesthesia.mat')\n",
    "X = data_X[1]\n",
    "y = data_y[1]\n",
    "print(X.shape)\n",
    "print(y.shape)"
   ]
  },
  {
   "cell_type": "code",
   "execution_count": 3,
   "metadata": {},
   "outputs": [],
   "source": [
    "# downsample if mismatch in size of datasets\n",
    "if data_X[1].shape[1] != data_y[1].shape[1]:\n",
    "    # gaussian normalization\n",
    "    if X.shape[1] > y.shape[1]:\n",
    "        X = dp.downsample_data(X, y.shape[1])\n",
    "    elif X.shape[1] < y.shape[1]:\n",
    "        y = dp.downsample_data(y, X.shape[1])"
   ]
  },
  {
   "cell_type": "code",
   "execution_count": 4,
   "metadata": {},
   "outputs": [
    {
     "name": "stdout",
     "output_type": "stream",
     "text": [
      "Train shapes: (255387, 129) (255387, 129)\n",
      "Validation shapes: (31923, 129) (31923, 129)\n",
      "Test shapes: (31924, 129) (31924, 129)\n"
     ]
    }
   ],
   "source": [
    "X = X.T\n",
    "y = y.T\n",
    "\n",
    "# Split data into training, validation and test\n",
    "X_train, X_temp, y_train, y_temp = train_test_split(X, y, test_size=0.2)\n",
    "X_val, X_test, y_val, y_test = train_test_split(X_temp, y_temp, test_size=0.5)\n",
    "\n",
    "# Normalize X\n",
    "scaler = StandardScaler()\n",
    "X_train = scaler.fit_transform(X_train)\n",
    "X_val = scaler.fit_transform(X_val)\n",
    "\n",
    "print(\"Train shapes:\", X_train.shape, y_train.shape)\n",
    "print(\"Validation shapes:\", X_val.shape, y_val.shape)\n",
    "print(\"Test shapes:\", X_test.shape, y_test.shape)\n",
    "\n",
    "# Convert numpy arrays to PyTorch tensors\n",
    "X_tensor = torch.tensor(X_train, dtype=torch.float32)\n",
    "y_tensor = torch.tensor(y_train, dtype=torch.float32)"
   ]
  },
  {
   "cell_type": "code",
   "execution_count": 5,
   "metadata": {},
   "outputs": [],
   "source": [
    "# simple linear regression model\n",
    "class LinearRegressionModel(nn.Module):\n",
    "    def __init__(self, input_size, output_size):\n",
    "        super(LinearRegressionModel, self).__init__()\n",
    "        self.linear = nn.Linear(input_size, 64)\n",
    "        self.relu = nn.ReLU()\n",
    "        self.l2 = nn.Linear(64, output_size)\n",
    "\n",
    "    def forward(self, x):\n",
    "        x1 = self.linear(x)\n",
    "        x2 = self.relu(x1)\n",
    "        x3 = self.l2(x2)\n",
    "        return x3"
   ]
  },
  {
   "cell_type": "code",
   "execution_count": 6,
   "metadata": {},
   "outputs": [],
   "source": [
    "# instantiate the model\n",
    "input_size = X_tensor.size(1)  # 129 (ecog)\n",
    "output_size = y_tensor.size(1)  # 19 (eeg)\n",
    "model = LinearRegressionModel(input_size, output_size)\n",
    "\n",
    "# define loss function and optimizer\n",
    "criterion = nn.MSELoss()\n",
    "optimizer = optim.SGD(model.parameters(), lr=0.001)\n",
    "\n",
    "# create DataLoader for batch processing\n",
    "dataset = TensorDataset(X_tensor, y_tensor)\n",
    "dataloader = DataLoader(dataset, batch_size=32)"
   ]
  },
  {
   "cell_type": "code",
   "execution_count": 7,
   "metadata": {},
   "outputs": [
    {
     "ename": "",
     "evalue": "",
     "output_type": "error",
     "traceback": [
      "\u001b[1;31mThe Kernel crashed while executing code in the current cell or a previous cell. \n",
      "\u001b[1;31mPlease review the code in the cell(s) to identify a possible cause of the failure. \n",
      "\u001b[1;31mClick <a href='https://aka.ms/vscodeJupyterKernelCrash'>here</a> for more info. \n",
      "\u001b[1;31mView Jupyter <a href='command:jupyter.viewOutput'>log</a> for further details."
     ]
    }
   ],
   "source": [
    "# Training loop RAW DATA\n",
    "num_epochs = 200\n",
    "loss_values = []\n",
    "for epoch in range(num_epochs):\n",
    "    epoch_loss = 0.0\n",
    "    for inputs, labels in dataloader:\n",
    "        # Forward pass\n",
    "        outputs = model(inputs)\n",
    "        loss = criterion(outputs, labels)\n",
    "        \n",
    "        # Backward pass and optimization\n",
    "        optimizer.zero_grad()\n",
    "        loss.backward()\n",
    "        optimizer.step()\n",
    "\n",
    "        epoch_loss += loss.item()\n",
    "\n",
    "    # Calculate average loss and mse for the epoch\n",
    "    epoch_loss /= len(dataloader)\n",
    "\n",
    "    # Append the loss values to the lists\n",
    "    loss_values.append(epoch_loss)\n",
    "\n",
    "    # Print progress\n",
    "    if (epoch+1) % 10 == 0:\n",
    "        print(f'Epoch [{epoch+1}/{num_epochs}], Loss: {epoch_loss:.4f}')"
   ]
  },
  {
   "cell_type": "code",
   "execution_count": null,
   "metadata": {},
   "outputs": [
    {
     "data": {
      "image/png": "[encoded data removed]",
      "text/plain": [
       "<Figure size 1000x500 with 1 Axes>"
      ]
     },
     "metadata": {},
     "output_type": "display_data"
    }
   ],
   "source": [
    "# Plot loss function\n",
    "plt.figure(figsize=(10, 5))\n",
    "plt.subplot(1, 2, 1)\n",
    "plt.plot(range(1, 25 + 1), loss_values[:25], label='Loss')\n",
    "plt.xlabel('Epoch')\n",
    "plt.ylabel('Loss')\n",
    "plt.title('Raw Data Training Loss')\n",
    "plt.show()"
   ]
  },
  {
   "cell_type": "code",
   "execution_count": null,
   "metadata": {},
   "outputs": [
    {
     "name": "stdout",
     "output_type": "stream",
     "text": [
      "accuracy per electrode: \n",
      "[0.55953109 0.57452018 0.55086132 0.50097699 0.50673169 0.55061067\n",
      " 0.55739988 0.57605099 0.57924366 0.58106133 0.5477858  0.51370487\n",
      " 0.53409575 0.5613393  0.49163903 0.57980701 0.5570603  0.56007093\n",
      " 0.5502825  0.51585206 0.54510681 0.55478943 0.57219319 0.57417438\n",
      " 0.52121344 0.55104759 0.54988225 0.54010694 0.53579907 0.51709559\n",
      " 0.51924759 0.534409   0.56543193 0.57364825 0.56707414 0.55701108\n",
      " 0.54936972 0.54571832 0.53086643 0.51948469 0.50434205 0.50457988\n",
      " 0.58370356 0.58591844 0.55170246 0.55381283 0.55978006 0.579799\n",
      " 0.5721594  0.5234315  0.5111306  0.47063013 0.44864902 0.53042176\n",
      " 0.5502763  0.58906197 0.59978448 0.60084997 0.61729103 0.51822002\n",
      " 0.48167901 0.47130841 0.52451841 0.54784622 0.5969945  0.59762799\n",
      " 0.57109527 0.55567013 0.56793403 0.61242154 0.59647985 0.58413037\n",
      " 0.58683547 0.62581467 0.6203849  0.57129901 0.56661757 0.57933679\n",
      " 0.57624935 0.58230129 0.56864225 0.56670986 0.56561664 0.57918149\n",
      " 0.57425776 0.57188645 0.57297574 0.58219681 0.59769535 0.56698805\n",
      " 0.56526785 0.57016302 0.50846724 0.56057583 0.58546781 0.56084612\n",
      " 0.57023617 0.57060293 0.58820766 0.57766308 0.57273728 0.57872396\n",
      " 0.58519895 0.56879144 0.56689989 0.55814482 0.5809427  0.5792836\n",
      " 0.56656767 0.55989181 0.56573119 0.56903007 0.58178246 0.53639871\n",
      " 0.53684526 0.55528356 0.56840682 0.57016365 0.5738363  0.5732617\n",
      " 0.56543218 0.55957063 0.54992291 0.53280432 0.53778894 0.56086335\n",
      " 0.54487167 0.53012632 0.50281699 0.55945419 0.57443199 0.55074667\n",
      " 0.50099203 0.50670096 0.55047758 0.55705082 0.57569777 0.57908802\n",
      " 0.58096997 0.54763963 0.51361985 0.53399967 0.56123295 0.49165538\n",
      " 0.57951461 0.55699378 0.55990864 0.550057   0.51581184 0.54504443\n",
      " 0.55466216 0.57203083 0.57388861 0.52118668 0.55101207 0.54984759\n",
      " 0.54008057 0.53577654 0.51709642 0.51917472 0.53436872 0.56497367\n",
      " 0.5731295  0.56687824 0.55697292 0.54930608 0.54563925 0.53082794\n",
      " 0.51945711 0.50421614 0.50460878 0.58358807 0.58553358 0.55165101\n",
      " 0.55377684 0.55971722 0.5792619  0.57182319 0.52340977 0.51113729\n",
      " 0.47073114 0.44892921 0.53030526 0.55026398 0.58883217 0.59923929\n",
      " 0.60030797 0.6164792  0.51817499 0.48181656 0.47152701 0.52451113\n",
      " 0.54777686 0.59671923 0.59683314 0.57063784 0.5554004  0.56773275\n",
      " 0.61163931 0.59614246 0.58400696 0.58659735 0.62481487 0.61958516\n",
      " 0.57114078 0.56638589 0.57879588 0.57600418 0.58191535 0.56844319\n",
      " 0.56619328 0.5655801  0.5790714  0.57413416 0.5717222  0.57254232\n",
      " 0.58154068 0.59691122 0.5667148  0.56484105 0.56980611 0.50846313\n",
      " 0.56042839 0.58507942 0.56064049 0.56969461 0.5702697  0.58803822\n",
      " 0.57734041 0.5724583  0.578315   0.58471176 0.56818496 0.56649472\n",
      " 0.55777946 0.58071022 0.57877466 0.56645771 0.55974634 0.56561146\n",
      " 0.56878477 0.58165479 0.53631531 0.53680639 0.5552169  0.5682915\n",
      " 0.57000371 0.5736339  0.57290419 0.56521002 0.55940422 0.54973092\n",
      " 0.53252163 0.53771742 0.56066049 0.54467145 0.53002273 0.50281851]\n",
      "Test Error: \n",
      " Accuracy: 0.5571, Avg loss: 90.729156 \n",
      "\n"
     ]
    }
   ],
   "source": [
    "# Evaluate on validation set\n",
    "X_val_tensor = torch.tensor(X_val, dtype=torch.float32)\n",
    "y_val_tensor = torch.tensor(y_val, dtype=torch.float32)\n",
    "\n",
    "# Make predictions on validation set\n",
    "model.eval()\n",
    "with torch.no_grad():\n",
    "    y_pred = model(X_val_tensor)\n",
    "    val_loss = criterion(y_pred, y_val_tensor).item()\n",
    "    \n",
    "    y_pred_np = y_pred.numpy().T\n",
    "    y_val_np = y_val_tensor.numpy().T\n",
    "    \n",
    "    corc = np.corrcoef(y_pred_np, y_val_np)\n",
    "    corc = (corc + 1) / 2\n",
    "    # average across rows\n",
    "    electrode_corc = np.mean(corc, axis=1)\n",
    "    print(\"accuracy per electrode: \")\n",
    "    print(electrode_corc)\n",
    "    overall_acc = np.mean(corc)\n",
    "    \n",
    "print(f\"Test Error: \\n Accuracy: {overall_acc:>0.4f}, Avg loss: {val_loss:>8f} \\n\")"
   ]
  },
  {
   "cell_type": "code",
   "execution_count": null,
   "metadata": {},
   "outputs": [],
   "source": [
    "# instantiate the model\n",
    "input_size = X_tensor.size(1)  # 129 (ecog)\n",
    "output_size = y_tensor.size(1)  # 19 (eeg)\n",
    "preprocess_model = LinearRegressionModel(input_size, output_size)\n",
    "\n",
    "# define loss function and optimizer\n",
    "criterion = nn.MSELoss()\n",
    "optimizer = optim.SGD(model.parameters(), lr=0.05)"
   ]
  },
  {
   "cell_type": "code",
   "execution_count": null,
   "metadata": {},
   "outputs": [
    {
     "name": "stdout",
     "output_type": "stream",
     "text": [
      "[1.87511069e+00 1.49258995e+00 8.56907749e-01 7.59270353e-01\n",
      " 5.68381522e-01 4.63313516e-01 3.53629696e-01 3.45063965e-01\n",
      " 2.65643542e-01 2.42808338e-01 2.33792515e-01 2.12604382e-01\n",
      " 1.71490551e-01 1.64405687e-01 1.47924839e-01 1.40953299e-01\n",
      " 1.32663306e-01 1.29553980e-01 1.21635250e-01 1.09417489e-01\n",
      " 1.05024152e-01 9.84125327e-02 9.63501864e-02 9.56979955e-02\n",
      " 9.09594606e-02 8.10255265e-02 7.92251063e-02 7.71441853e-02\n",
      " 7.49755210e-02 7.32872664e-02 7.18215437e-02 6.96420091e-02\n",
      " 6.49165351e-02 6.37500864e-02 6.10230292e-02 5.91570113e-02\n",
      " 5.73297882e-02 5.42031964e-02 5.18710896e-02 5.02916567e-02\n",
      " 5.00192155e-02 4.90853257e-02 4.53569697e-02 4.30430481e-02\n",
      " 4.27367611e-02 4.04374529e-02 3.89731813e-02 3.86816923e-02\n",
      " 3.68341345e-02 3.58844541e-02 3.54933260e-02 3.42850720e-02\n",
      " 3.34969868e-02 3.15330596e-02 3.05883416e-02 3.00441922e-02\n",
      " 2.92446962e-02 2.89706865e-02 2.79564350e-02 2.72860857e-02\n",
      " 2.65413136e-02 2.56698563e-02 2.44100310e-02 2.37859257e-02\n",
      " 2.33641740e-02 2.24940576e-02 2.20265488e-02 2.13238926e-02\n",
      " 2.03329632e-02 1.98631981e-02 1.94069629e-02 1.87778184e-02\n",
      " 1.81923903e-02 1.76443386e-02 1.73586613e-02 1.68104120e-02\n",
      " 1.66798133e-02 1.55165934e-02 1.50441631e-02 1.49313882e-02\n",
      " 1.46142298e-02 1.44079346e-02 1.39825801e-02 1.39591376e-02\n",
      " 1.32564194e-02 1.26670701e-02 1.24142736e-02 1.20063378e-02\n",
      " 1.18044576e-02 1.11270097e-02 1.10859124e-02 1.08727127e-02\n",
      " 1.05523959e-02 1.01327819e-02 9.95253301e-03 9.83823803e-03\n",
      " 9.50549780e-03 9.19687506e-03 8.89720348e-03 8.59756955e-03\n",
      " 8.35613169e-03 8.12360051e-03 7.89941553e-03 7.45981777e-03\n",
      " 7.25250885e-03 6.90119889e-03 6.59165023e-03 6.53285077e-03\n",
      " 6.30990802e-03 6.09625284e-03 5.86549982e-03 5.69771888e-03\n",
      " 5.57461570e-03 5.17796482e-03 5.03650243e-03 4.68001053e-03\n",
      " 4.56413515e-03 4.06534657e-03 3.78543396e-03 3.51360265e-03\n",
      " 3.36232111e-03 3.02744493e-03 2.80035347e-03 2.40734997e-03\n",
      " 2.30763000e-03 2.02951077e-03 1.81967842e-03 1.16968254e-03\n",
      " 6.01320492e-04]\n",
      "[[-6.56893244e-02 -1.02748638e-01 -8.80137174e-02 ... -8.36113314e-03\n",
      "   1.93106955e-02  8.47686116e-04]\n",
      " [-8.35040470e-02 -9.27482888e-02  3.18309366e-02 ... -1.06800135e-02\n",
      "  -2.35896748e-02  1.29494525e-03]\n",
      " [-4.87343193e-02 -6.45483256e-02  1.25322052e-01 ...  2.02970744e-02\n",
      "   6.71660619e-02  7.06180113e-02]\n",
      " ...\n",
      " [-4.13805455e-02 -1.02568744e-02  1.51735927e-01 ...  1.21671325e-01\n",
      "   9.86246683e-03 -3.45056384e-01]\n",
      " [-2.13768902e-02 -6.29209111e-03  1.75948911e-01 ... -1.44177745e-01\n",
      "  -1.39899565e-01  8.93775739e-02]\n",
      " [ 8.64107879e-03 -3.84500970e-03  2.80892753e-03 ... -4.08468870e-03\n",
      "  -1.43564685e-02  3.40707619e-04]]\n",
      "[1.80104090e+00 1.49825882e+00 8.92569525e-01 7.78211808e-01\n",
      " 5.79902525e-01 4.89657484e-01 3.68928553e-01 3.30880933e-01\n",
      " 2.72168586e-01 2.46242413e-01 2.36974017e-01 2.16439773e-01\n",
      " 1.71500009e-01 1.62003360e-01 1.55637853e-01 1.45372049e-01\n",
      " 1.31103980e-01 1.26786426e-01 1.20072618e-01 1.10626001e-01\n",
      " 1.06818815e-01 9.86053183e-02 9.63034582e-02 8.94460123e-02\n",
      " 8.87250606e-02 8.11959851e-02 7.87656382e-02 7.82140621e-02\n",
      " 7.46505049e-02 7.21533108e-02 7.05572408e-02 6.72497818e-02\n",
      " 6.43896854e-02 6.23929439e-02 6.16786431e-02 5.95372382e-02\n",
      " 5.47604540e-02 5.34646279e-02 5.14180556e-02 4.98762577e-02\n",
      " 4.90712658e-02 4.77365773e-02 4.33731165e-02 4.24773820e-02\n",
      " 4.23626311e-02 4.10011651e-02 3.94661196e-02 3.76731397e-02\n",
      " 3.64453213e-02 3.62546310e-02 3.59042760e-02 3.41324727e-02\n",
      " 3.25033886e-02 3.13306727e-02 3.05660240e-02 3.00954184e-02\n",
      " 2.89358841e-02 2.79899889e-02 2.74326816e-02 2.68895673e-02\n",
      " 2.58673128e-02 2.52905568e-02 2.46361326e-02 2.35215914e-02\n",
      " 2.27493867e-02 2.22359069e-02 2.16038011e-02 2.07446302e-02\n",
      " 1.98840130e-02 1.94643491e-02 1.86464050e-02 1.81550819e-02\n",
      " 1.73137740e-02 1.70729518e-02 1.67416298e-02 1.62824336e-02\n",
      " 1.57955131e-02 1.52817507e-02 1.48754925e-02 1.43213934e-02\n",
      " 1.41799474e-02 1.38911351e-02 1.35398665e-02 1.33324480e-02\n",
      " 1.26993721e-02 1.22454612e-02 1.21138563e-02 1.17765170e-02\n",
      " 1.14745307e-02 1.09933853e-02 1.06699399e-02 1.04265236e-02\n",
      " 1.02384542e-02 9.87960720e-03 9.54314901e-03 9.40747629e-03\n",
      " 9.15027516e-03 8.98815656e-03 8.65837412e-03 8.52189099e-03\n",
      " 8.03610925e-03 7.78053563e-03 7.53850624e-03 7.08323101e-03\n",
      " 6.86446883e-03 6.71289328e-03 6.55803911e-03 6.18149108e-03\n",
      " 6.09829324e-03 5.81080986e-03 5.68898543e-03 5.38233003e-03\n",
      " 5.30447138e-03 4.92215829e-03 4.71236841e-03 4.61652340e-03\n",
      " 4.18973397e-03 3.80655833e-03 3.52053961e-03 3.29680202e-03\n",
      " 3.22394979e-03 2.86380333e-03 2.66391758e-03 2.43776549e-03\n",
      " 2.16564913e-03 1.93275464e-03 1.69911615e-03 1.10251186e-03\n",
      " 5.81704878e-04]\n",
      "[[ 0.06816145 -0.10603139  0.07574978 ... -0.05987609 -0.01214422\n",
      "   0.00030006]\n",
      " [ 0.08181552 -0.09211118 -0.05196311 ...  0.06539524  0.00587453\n",
      "   0.01290607]\n",
      " [ 0.04857918 -0.05842677 -0.13797118 ... -0.04182848 -0.01377605\n",
      "  -0.07729253]\n",
      " ...\n",
      " [ 0.04563298 -0.00472157 -0.14625868 ... -0.07042989  0.04307695\n",
      "   0.00523393]\n",
      " [ 0.02229813  0.00224783 -0.16866898 ... -0.04506006 -0.06579621\n",
      "   0.14467147]\n",
      " [-0.01117885 -0.0024396  -0.01446901 ...  0.01068667 -0.01190708\n",
      "   0.00766353]]\n",
      "129\n",
      "129\n"
     ]
    }
   ],
   "source": [
    "# possible hyperparameters\n",
    "low_bound = 0.5\n",
    "high_bound = 45\n",
    "sampling_rate = 1000\n",
    "\n",
    "# bandwidth_butterworth_filter\n",
    "X_train_filtered = dp.butter_bandpass_filter(X_train.T, low_bound, high_bound, sampling_rate)\n",
    "X_val_filtered = dp.butter_bandpass_filter(X_val.T, low_bound, high_bound, sampling_rate)\n",
    "\n",
    "# PCA whitening\n",
    "X_train_w = dp.whitening(X_train_filtered.T)\n",
    "X_val_w = dp.whitening(X_val_filtered.T)\n",
    "\n",
    "# Convert numpy arrays to PyTorch tensors\n",
    "X_tensor = torch.tensor(X_train_w.T, dtype=torch.float32)\n",
    "y_tensor = torch.tensor(y_train, dtype=torch.float32)\n",
    "\n",
    "print(X_tensor.size(1))\n",
    "print(y_tensor.size(1))\n",
    "# create DataLoader for batch processing\n",
    "processed_dataset = TensorDataset(X_tensor, y_tensor)\n",
    "processed_dataloader = DataLoader(dataset, batch_size=64)\n",
    "\n"
   ]
  },
  {
   "cell_type": "code",
   "execution_count": null,
   "metadata": {},
   "outputs": [
    {
     "name": "stdout",
     "output_type": "stream",
     "text": [
      "Epoch [10/200], Loss: 0.3722\n",
      "Epoch [20/200], Loss: 0.2156\n",
      "Epoch [30/200], Loss: 0.1335\n",
      "Epoch [40/200], Loss: 0.0853\n",
      "Epoch [50/200], Loss: 0.0554\n",
      "Epoch [60/200], Loss: 0.0363\n",
      "Epoch [70/200], Loss: 0.0240\n",
      "Epoch [80/200], Loss: 0.0159\n",
      "Epoch [90/200], Loss: 0.0105\n",
      "Epoch [100/200], Loss: 0.0070\n",
      "Epoch [110/200], Loss: 0.0047\n",
      "Epoch [120/200], Loss: 0.0031\n",
      "Epoch [130/200], Loss: 0.0021\n",
      "Epoch [140/200], Loss: 0.0014\n",
      "Epoch [150/200], Loss: 0.0010\n",
      "Epoch [160/200], Loss: 0.0007\n",
      "Epoch [170/200], Loss: 0.0005\n",
      "Epoch [180/200], Loss: 0.0003\n",
      "Epoch [190/200], Loss: 0.0003\n",
      "Epoch [200/200], Loss: 0.0002\n"
     ]
    }
   ],
   "source": [
    "# Training loop PREPROCESSED DATA\n",
    "num_epochs = 200\n",
    "loss_values = []\n",
    "for epoch in range(num_epochs):\n",
    "    epoch_loss = 0.0\n",
    "    for inputs, labels in processed_dataloader:\n",
    "        # Forward pass\n",
    "        outputs = model(inputs)\n",
    "        loss = criterion(outputs, labels)\n",
    "        \n",
    "        # Backward pass and optimization\n",
    "        optimizer.zero_grad()\n",
    "        loss.backward()\n",
    "        optimizer.step()\n",
    "\n",
    "        epoch_loss += loss.item()\n",
    "\n",
    "    # Calculate average loss and mse for the epoch\n",
    "    epoch_loss /= len(processed_dataloader)\n",
    "\n",
    "    # Append the loss values to the lists\n",
    "    loss_values.append(epoch_loss)\n",
    "\n",
    "    # Print progress\n",
    "    if (epoch+1) % 10 == 0:\n",
    "        print(f'Epoch [{epoch+1}/{num_epochs}], Loss: {epoch_loss:.4f}')"
   ]
  },
  {
   "cell_type": "code",
   "execution_count": null,
   "metadata": {},
   "outputs": [
    {
     "data": {
      "image/png": "[encoded data removed]",
      "text/plain": [
       "<Figure size 1000x500 with 1 Axes>"
      ]
     },
     "metadata": {},
     "output_type": "display_data"
    }
   ],
   "source": [
    "# Plot loss function\n",
    "plt.figure(figsize=(10, 5))\n",
    "plt.subplot(1, 2, 1)\n",
    "plt.plot(range(1, 25 + 1), loss_values[:25], label='Loss')\n",
    "plt.xlabel('Epoch')\n",
    "plt.ylabel('Loss')\n",
    "plt.title('Pre-process Training Loss')\n",
    "plt.show()"
   ]
  },
  {
   "cell_type": "code",
   "execution_count": null,
   "metadata": {},
   "outputs": [
    {
     "name": "stdout",
     "output_type": "stream",
     "text": [
      "accuracy per electrode: \n",
      "[0.59821239 0.64762219 0.61734214 0.57280512 0.64983227 0.64990679\n",
      " 0.64537307 0.41887121 0.64334963 0.58250406 0.39660444 0.65128125\n",
      " 0.64949378 0.65799558 0.65738152 0.65727894 0.6507965  0.65465697\n",
      " 0.51653187 0.59764491 0.65269095 0.61955781 0.54132001 0.65496216\n",
      " 0.65750945 0.65413003 0.43230688 0.65892695 0.60972831 0.3931737\n",
      " 0.65496369 0.65300858 0.65914819 0.65909323 0.65889404 0.65476705\n",
      " 0.6568584  0.51152749]\n",
      "Test Error: \n",
      " Accuracy: 0.6078%, Avg loss: 28152.369141 \n",
      "\n"
     ]
    }
   ],
   "source": [
    "# Evaluate on validation set\n",
    "X_val_tensor = torch.tensor(X_val, dtype=torch.float32)\n",
    "y_val_tensor = torch.tensor(y_val, dtype=torch.float32)\n",
    "\n",
    "# Make predictions on validation set\n",
    "model.eval()\n",
    "with torch.no_grad():\n",
    "    y_pred = model(X_val_tensor)\n",
    "    val_loss = criterion(y_pred, y_val_tensor).item()\n",
    "    \n",
    "    y_pred_np = y_pred.numpy().T\n",
    "    y_val_np = y_val_tensor.numpy().T\n",
    "    \n",
    "    corc = np.corrcoef(y_pred_np, y_val_np)\n",
    "    corc = (corc + 1) / 2\n",
    "    # average across rows\n",
    "    electrode_corc = np.mean(corc, axis=1)\n",
    "    print(\"accuracy per electrode: \")\n",
    "    print(electrode_corc)\n",
    "    overall_acc = np.mean(corc)\n",
    "    \n",
    "print(f\"Test Error: \\n Accuracy: {overall_acc:>0.4f}%, Avg loss: {val_loss:>8f} \\n\")"
   ]
  }
 ],
 "metadata": {
  "kernelspec": {
   "display_name": "My Environment",
   "language": "python",
   "name": "myenv"
  },
  "language_info": {
   "codemirror_mode": {
    "name": "ipython",
    "version": 3
   },
   "file_extension": ".py",
   "mimetype": "text/x-python",
   "name": "python",
   "nbconvert_exporter": "python",
   "pygments_lexer": "ipython3",
   "version": "3.8.19"
  }
 },
 "nbformat": 4,
 "nbformat_minor": 2
}
