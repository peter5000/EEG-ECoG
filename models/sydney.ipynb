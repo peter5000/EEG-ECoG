{
 "cells": [
  {
   "cell_type": "code",
   "execution_count": 16,
   "metadata": {},
   "outputs": [],
   "source": [
    "# Linear Regression model\n",
    "import sys\n",
    "import os\n",
    "sys.path.append(os.path.abspath('..')) # adding path for packages\n",
    "import torch\n",
    "import torch.nn as nn\n",
    "import torch.optim as optim\n",
    "from torch.utils.data import TensorDataset, DataLoader\n",
    "import matplotlib.pyplot as plt\n",
    "from sklearn.metrics import mean_squared_error, mean_absolute_error, r2_score\n",
    "import scipy.io\n",
    "from sklearn.model_selection import train_test_split\n",
    "from sklearn.preprocessing import StandardScaler\n",
    "import utils.data_preprocessing as dp\n",
    "import numpy as np"
   ]
  },
  {
   "cell_type": "code",
   "execution_count": 17,
   "metadata": {},
   "outputs": [
    {
     "name": "stdout",
     "output_type": "stream",
     "text": [
      "(129, 319234)\n",
      "(19, 323262)\n"
     ]
    }
   ],
   "source": [
    "data_X = dp.loadMatFile('../../Datasets/20110607S2_EEGandECoG_Su_Oosugi_ECoG128-EEG18/20110607S2_EEGECoG_Su_Oosugi_ECoG128-EEG18_mat/ECoG05_anesthesia.mat')\n",
    "data_y = dp.loadMatFile('../../Datasets/20110607S2_EEGandECoG_Su_Oosugi_ECoG128-EEG18/20110607S2_EEGECoG_Su_Oosugi_ECoG128-EEG18_mat/EEG05_anesthesia.mat')\n",
    "X = data_X[1]\n",
    "y = data_y[1]\n",
    "print(X.shape)\n",
    "print(y.shape)"
   ]
  },
  {
   "cell_type": "code",
   "execution_count": 18,
   "metadata": {},
   "outputs": [
    {
     "name": "stdout",
     "output_type": "stream",
     "text": [
      "(323262,)\n",
      "(19, 323262)\n"
     ]
    }
   ],
   "source": [
    "# downsample if mismatch in size of datasets\n",
    "if data_X[1].shape[1] != data_y[1].shape[1]:\n",
    "    # gaussian normalization\n",
    "    if X.shape[1] > y.shape[1]:\n",
    "        X = dp.downsample_data(X, y.shape[1])\n",
    "    elif X.shape[1] < y.shape[1]:\n",
    "        y = dp.downsample_data(y, X.shape[1])"
   ]
  },
  {
   "cell_type": "code",
   "execution_count": 19,
   "metadata": {},
   "outputs": [
    {
     "name": "stdout",
     "output_type": "stream",
     "text": [
      "Train shapes: (255387, 129) (255387, 19)\n",
      "Validation shapes: (31923, 129) (31923, 19)\n",
      "Test shapes: (31924, 129) (31924, 19)\n"
     ]
    }
   ],
   "source": [
    "X = X.T\n",
    "y = y.T\n",
    "\n",
    "# Split data into training, validation and test\n",
    "X_train, X_temp, y_train, y_temp = train_test_split(X, y, test_size=0.2)\n",
    "X_val, X_test, y_val, y_test = train_test_split(X_temp, y_temp, test_size=0.5)\n",
    "\n",
    "# Normalize X\n",
    "scaler = StandardScaler()\n",
    "X_train = scaler.fit_transform(X_train)\n",
    "X_val = scaler.fit_transform(X_val)\n",
    "\n",
    "print(\"Train shapes:\", X_train.shape, y_train.shape)\n",
    "print(\"Validation shapes:\", X_val.shape, y_val.shape)\n",
    "print(\"Test shapes:\", X_test.shape, y_test.shape)\n",
    "\n",
    "# Convert numpy arrays to PyTorch tensors\n",
    "X_tensor = torch.tensor(X_train, dtype=torch.float32)\n",
    "y_tensor = torch.tensor(y_train, dtype=torch.float32)"
   ]
  },
  {
   "cell_type": "code",
   "execution_count": 49,
   "metadata": {},
   "outputs": [],
   "source": [
    "# simple linear regression model\n",
    "class LinearRegressionModel(nn.Module):\n",
    "    def __init__(self):\n",
    "        # 1D Convolutional layers\n",
    "        super().__init__()\n",
    "        self.conv1 = nn.Conv1d(in_channels=129, out_channels=64, kernel_size=1, padding=1)\n",
    "        self.pool1 = nn.MaxPool1d(kernel_size=2)\n",
    "        self.conv2 = nn.Conv1d(in_channels=64, out_channels=128, kernel_size=1, padding=1)\n",
    "        self.pool2 = nn.MaxPool1d(kernel_size=2)\n",
    "        \n",
    "        # LSTM layer\n",
    "        self.lstm = nn.LSTM(input_size=128, hidden_size=100, batch_first=True)\n",
    "        \n",
    "        # Fully connected layers\n",
    "        self.fc1 = nn.Linear(100, 50)\n",
    "        self.dropout = nn.Dropout(0.5)\n",
    "        self.fc2 = nn.Linear(50, 19)\n",
    "        \n",
    "    def forward(self, x):\n",
    "        # Convolutional layers\n",
    "        x = self.pool1(torch.relu(self.conv1(x)))\n",
    "        x = self.pool2(torch.relu(self.conv2(x)))\n",
    "        \n",
    "        # Flatten the output of conv layers and prepare for LSTM\n",
    "        x = x.permute(0, 2, 1)  # Change to (batch_size, sequence_length, features)\n",
    "        \n",
    "        # LSTM layer\n",
    "        x, _ = self.lstm(x)\n",
    "        x = x[:, -1, :]  # Take the output of the last time step\n",
    "        \n",
    "        # Fully connected layers\n",
    "        x = torch.relu(self.fc1(x))\n",
    "        x = self.dropout(x)\n",
    "        x = self.fc2(x)\n",
    "        \n",
    "        return x"
   ]
  },
  {
   "cell_type": "code",
   "execution_count": 50,
   "metadata": {},
   "outputs": [],
   "source": [
    "# instantiate the model\n",
    "input_size = X_tensor.size(1)  # 129 (ecog)\n",
    "output_size = y_tensor.size(1)  # 19 (eeg)\n",
    "model = LinearRegressionModel()\n",
    "\n",
    "# define loss function and optimizer\n",
    "criterion = nn.MSELoss()\n",
    "optimizer = optim.SGD(model.parameters(), lr=0.001)\n",
    "\n",
    "# create DataLoader for batch processing\n",
    "dataset = TensorDataset(X_tensor, y_tensor)\n",
    "dataloader = DataLoader(dataset, batch_size=64)"
   ]
  },
  {
   "cell_type": "code",
   "execution_count": 53,
   "metadata": {},
   "outputs": [
    {
     "name": "stdout",
     "output_type": "stream",
     "text": [
      "torch.Size([64, 1, 129])\n"
     ]
    },
    {
     "ename": "RuntimeError",
     "evalue": "Given groups=1, weight of size [64, 129, 1], expected input[64, 1, 129] to have 129 channels, but got 1 channels instead",
     "output_type": "error",
     "traceback": [
      "\u001b[0;31m---------------------------------------------------------------------------\u001b[0m",
      "\u001b[0;31mRuntimeError\u001b[0m                              Traceback (most recent call last)",
      "Cell \u001b[0;32mIn[53], line 10\u001b[0m\n\u001b[1;32m      8\u001b[0m inputs \u001b[38;5;241m=\u001b[39m torch\u001b[38;5;241m.\u001b[39munsqueeze(inputs, \u001b[38;5;241m1\u001b[39m)\n\u001b[1;32m      9\u001b[0m \u001b[38;5;28mprint\u001b[39m(inputs\u001b[38;5;241m.\u001b[39mshape)\n\u001b[0;32m---> 10\u001b[0m outputs \u001b[38;5;241m=\u001b[39m \u001b[43mmodel\u001b[49m\u001b[43m(\u001b[49m\u001b[43minputs\u001b[49m\u001b[43m)\u001b[49m\n\u001b[1;32m     11\u001b[0m loss \u001b[38;5;241m=\u001b[39m criterion(outputs, labels)\n\u001b[1;32m     13\u001b[0m \u001b[38;5;66;03m# Backward pass and optimization\u001b[39;00m\n",
      "File \u001b[0;32m~/miniconda3/envs/mynlpenv/lib/python3.8/site-packages/torch/nn/modules/module.py:889\u001b[0m, in \u001b[0;36mModule._call_impl\u001b[0;34m(self, *input, **kwargs)\u001b[0m\n\u001b[1;32m    887\u001b[0m     result \u001b[38;5;241m=\u001b[39m \u001b[38;5;28mself\u001b[39m\u001b[38;5;241m.\u001b[39m_slow_forward(\u001b[38;5;241m*\u001b[39m\u001b[38;5;28minput\u001b[39m, \u001b[38;5;241m*\u001b[39m\u001b[38;5;241m*\u001b[39mkwargs)\n\u001b[1;32m    888\u001b[0m \u001b[38;5;28;01melse\u001b[39;00m:\n\u001b[0;32m--> 889\u001b[0m     result \u001b[38;5;241m=\u001b[39m \u001b[38;5;28;43mself\u001b[39;49m\u001b[38;5;241;43m.\u001b[39;49m\u001b[43mforward\u001b[49m\u001b[43m(\u001b[49m\u001b[38;5;241;43m*\u001b[39;49m\u001b[38;5;28;43minput\u001b[39;49m\u001b[43m,\u001b[49m\u001b[43m \u001b[49m\u001b[38;5;241;43m*\u001b[39;49m\u001b[38;5;241;43m*\u001b[39;49m\u001b[43mkwargs\u001b[49m\u001b[43m)\u001b[49m\n\u001b[1;32m    890\u001b[0m \u001b[38;5;28;01mfor\u001b[39;00m hook \u001b[38;5;129;01min\u001b[39;00m itertools\u001b[38;5;241m.\u001b[39mchain(\n\u001b[1;32m    891\u001b[0m         _global_forward_hooks\u001b[38;5;241m.\u001b[39mvalues(),\n\u001b[1;32m    892\u001b[0m         \u001b[38;5;28mself\u001b[39m\u001b[38;5;241m.\u001b[39m_forward_hooks\u001b[38;5;241m.\u001b[39mvalues()):\n\u001b[1;32m    893\u001b[0m     hook_result \u001b[38;5;241m=\u001b[39m hook(\u001b[38;5;28mself\u001b[39m, \u001b[38;5;28minput\u001b[39m, result)\n",
      "Cell \u001b[0;32mIn[49], line 21\u001b[0m, in \u001b[0;36mLinearRegressionModel.forward\u001b[0;34m(self, x)\u001b[0m\n\u001b[1;32m     19\u001b[0m \u001b[38;5;28;01mdef\u001b[39;00m \u001b[38;5;21mforward\u001b[39m(\u001b[38;5;28mself\u001b[39m, x):\n\u001b[1;32m     20\u001b[0m     \u001b[38;5;66;03m# Convolutional layers\u001b[39;00m\n\u001b[0;32m---> 21\u001b[0m     x \u001b[38;5;241m=\u001b[39m \u001b[38;5;28mself\u001b[39m\u001b[38;5;241m.\u001b[39mpool1(torch\u001b[38;5;241m.\u001b[39mrelu(\u001b[38;5;28;43mself\u001b[39;49m\u001b[38;5;241;43m.\u001b[39;49m\u001b[43mconv1\u001b[49m\u001b[43m(\u001b[49m\u001b[43mx\u001b[49m\u001b[43m)\u001b[49m))\n\u001b[1;32m     22\u001b[0m     x \u001b[38;5;241m=\u001b[39m \u001b[38;5;28mself\u001b[39m\u001b[38;5;241m.\u001b[39mpool2(torch\u001b[38;5;241m.\u001b[39mrelu(\u001b[38;5;28mself\u001b[39m\u001b[38;5;241m.\u001b[39mconv2(x)))\n\u001b[1;32m     24\u001b[0m     \u001b[38;5;66;03m# Flatten the output of conv layers and prepare for LSTM\u001b[39;00m\n",
      "File \u001b[0;32m~/miniconda3/envs/mynlpenv/lib/python3.8/site-packages/torch/nn/modules/module.py:889\u001b[0m, in \u001b[0;36mModule._call_impl\u001b[0;34m(self, *input, **kwargs)\u001b[0m\n\u001b[1;32m    887\u001b[0m     result \u001b[38;5;241m=\u001b[39m \u001b[38;5;28mself\u001b[39m\u001b[38;5;241m.\u001b[39m_slow_forward(\u001b[38;5;241m*\u001b[39m\u001b[38;5;28minput\u001b[39m, \u001b[38;5;241m*\u001b[39m\u001b[38;5;241m*\u001b[39mkwargs)\n\u001b[1;32m    888\u001b[0m \u001b[38;5;28;01melse\u001b[39;00m:\n\u001b[0;32m--> 889\u001b[0m     result \u001b[38;5;241m=\u001b[39m \u001b[38;5;28;43mself\u001b[39;49m\u001b[38;5;241;43m.\u001b[39;49m\u001b[43mforward\u001b[49m\u001b[43m(\u001b[49m\u001b[38;5;241;43m*\u001b[39;49m\u001b[38;5;28;43minput\u001b[39;49m\u001b[43m,\u001b[49m\u001b[43m \u001b[49m\u001b[38;5;241;43m*\u001b[39;49m\u001b[38;5;241;43m*\u001b[39;49m\u001b[43mkwargs\u001b[49m\u001b[43m)\u001b[49m\n\u001b[1;32m    890\u001b[0m \u001b[38;5;28;01mfor\u001b[39;00m hook \u001b[38;5;129;01min\u001b[39;00m itertools\u001b[38;5;241m.\u001b[39mchain(\n\u001b[1;32m    891\u001b[0m         _global_forward_hooks\u001b[38;5;241m.\u001b[39mvalues(),\n\u001b[1;32m    892\u001b[0m         \u001b[38;5;28mself\u001b[39m\u001b[38;5;241m.\u001b[39m_forward_hooks\u001b[38;5;241m.\u001b[39mvalues()):\n\u001b[1;32m    893\u001b[0m     hook_result \u001b[38;5;241m=\u001b[39m hook(\u001b[38;5;28mself\u001b[39m, \u001b[38;5;28minput\u001b[39m, result)\n",
      "File \u001b[0;32m~/miniconda3/envs/mynlpenv/lib/python3.8/site-packages/torch/nn/modules/conv.py:263\u001b[0m, in \u001b[0;36mConv1d.forward\u001b[0;34m(self, input)\u001b[0m\n\u001b[1;32m    262\u001b[0m \u001b[38;5;28;01mdef\u001b[39;00m \u001b[38;5;21mforward\u001b[39m(\u001b[38;5;28mself\u001b[39m, \u001b[38;5;28minput\u001b[39m: Tensor) \u001b[38;5;241m-\u001b[39m\u001b[38;5;241m>\u001b[39m Tensor:\n\u001b[0;32m--> 263\u001b[0m     \u001b[38;5;28;01mreturn\u001b[39;00m \u001b[38;5;28;43mself\u001b[39;49m\u001b[38;5;241;43m.\u001b[39;49m\u001b[43m_conv_forward\u001b[49m\u001b[43m(\u001b[49m\u001b[38;5;28;43minput\u001b[39;49m\u001b[43m,\u001b[49m\u001b[43m \u001b[49m\u001b[38;5;28;43mself\u001b[39;49m\u001b[38;5;241;43m.\u001b[39;49m\u001b[43mweight\u001b[49m\u001b[43m,\u001b[49m\u001b[43m \u001b[49m\u001b[38;5;28;43mself\u001b[39;49m\u001b[38;5;241;43m.\u001b[39;49m\u001b[43mbias\u001b[49m\u001b[43m)\u001b[49m\n",
      "File \u001b[0;32m~/miniconda3/envs/mynlpenv/lib/python3.8/site-packages/torch/nn/modules/conv.py:259\u001b[0m, in \u001b[0;36mConv1d._conv_forward\u001b[0;34m(self, input, weight, bias)\u001b[0m\n\u001b[1;32m    255\u001b[0m \u001b[38;5;28;01mif\u001b[39;00m \u001b[38;5;28mself\u001b[39m\u001b[38;5;241m.\u001b[39mpadding_mode \u001b[38;5;241m!=\u001b[39m \u001b[38;5;124m'\u001b[39m\u001b[38;5;124mzeros\u001b[39m\u001b[38;5;124m'\u001b[39m:\n\u001b[1;32m    256\u001b[0m     \u001b[38;5;28;01mreturn\u001b[39;00m F\u001b[38;5;241m.\u001b[39mconv1d(F\u001b[38;5;241m.\u001b[39mpad(\u001b[38;5;28minput\u001b[39m, \u001b[38;5;28mself\u001b[39m\u001b[38;5;241m.\u001b[39m_reversed_padding_repeated_twice, mode\u001b[38;5;241m=\u001b[39m\u001b[38;5;28mself\u001b[39m\u001b[38;5;241m.\u001b[39mpadding_mode),\n\u001b[1;32m    257\u001b[0m                     weight, bias, \u001b[38;5;28mself\u001b[39m\u001b[38;5;241m.\u001b[39mstride,\n\u001b[1;32m    258\u001b[0m                     _single(\u001b[38;5;241m0\u001b[39m), \u001b[38;5;28mself\u001b[39m\u001b[38;5;241m.\u001b[39mdilation, \u001b[38;5;28mself\u001b[39m\u001b[38;5;241m.\u001b[39mgroups)\n\u001b[0;32m--> 259\u001b[0m \u001b[38;5;28;01mreturn\u001b[39;00m \u001b[43mF\u001b[49m\u001b[38;5;241;43m.\u001b[39;49m\u001b[43mconv1d\u001b[49m\u001b[43m(\u001b[49m\u001b[38;5;28;43minput\u001b[39;49m\u001b[43m,\u001b[49m\u001b[43m \u001b[49m\u001b[43mweight\u001b[49m\u001b[43m,\u001b[49m\u001b[43m \u001b[49m\u001b[43mbias\u001b[49m\u001b[43m,\u001b[49m\u001b[43m \u001b[49m\u001b[38;5;28;43mself\u001b[39;49m\u001b[38;5;241;43m.\u001b[39;49m\u001b[43mstride\u001b[49m\u001b[43m,\u001b[49m\n\u001b[1;32m    260\u001b[0m \u001b[43m                \u001b[49m\u001b[38;5;28;43mself\u001b[39;49m\u001b[38;5;241;43m.\u001b[39;49m\u001b[43mpadding\u001b[49m\u001b[43m,\u001b[49m\u001b[43m \u001b[49m\u001b[38;5;28;43mself\u001b[39;49m\u001b[38;5;241;43m.\u001b[39;49m\u001b[43mdilation\u001b[49m\u001b[43m,\u001b[49m\u001b[43m \u001b[49m\u001b[38;5;28;43mself\u001b[39;49m\u001b[38;5;241;43m.\u001b[39;49m\u001b[43mgroups\u001b[49m\u001b[43m)\u001b[49m\n",
      "\u001b[0;31mRuntimeError\u001b[0m: Given groups=1, weight of size [64, 129, 1], expected input[64, 1, 129] to have 129 channels, but got 1 channels instead"
     ]
    }
   ],
   "source": [
    "# Training loop RAW DATA\n",
    "num_epochs = 200\n",
    "loss_values = []\n",
    "for epoch in range(num_epochs):\n",
    "    epoch_loss = 0.0\n",
    "    for inputs, labels in dataloader:\n",
    "        # Forward pass\n",
    "        inputs = torch.unsqueeze(inputs, 1)\n",
    "        print(inputs.shape)\n",
    "        outputs = model(inputs)\n",
    "        loss = criterion(outputs, labels)\n",
    "        \n",
    "        # Backward pass and optimization\n",
    "        optimizer.zero_grad()\n",
    "        loss.backward()\n",
    "        optimizer.step()\n",
    "\n",
    "        epoch_loss += loss.item()\n",
    "\n",
    "    # Calculate average loss and mse for the epoch\n",
    "    epoch_loss /= len(dataloader)\n",
    "\n",
    "    # Append the loss values to the lists\n",
    "    loss_values.append(epoch_loss)\n",
    "\n",
    "    # Print progress\n",
    "    if (epoch+1) % 10 == 0:\n",
    "        print(f'Epoch [{epoch+1}/{num_epochs}], Loss: {epoch_loss:.4f}')"
   ]
  },
  {
   "cell_type": "code",
   "execution_count": null,
   "metadata": {},
   "outputs": [
    {
     "data": {
      "image/png": "[encoded data removed]",
      "text/plain": [
       "<Figure size 1000x500 with 1 Axes>"
      ]
     },
     "metadata": {},
     "output_type": "display_data"
    }
   ],
   "source": [
    "# Plot loss function\n",
    "plt.figure(figsize=(10, 5))\n",
    "plt.subplot(1, 2, 1)\n",
    "plt.plot(range(1, 25 + 1), loss_values[:25], label='Loss')\n",
    "plt.xlabel('Epoch')\n",
    "plt.ylabel('Loss')\n",
    "plt.title('Raw Data Training Loss')\n",
    "plt.show()"
   ]
  },
  {
   "cell_type": "code",
   "execution_count": null,
   "metadata": {},
   "outputs": [
    {
     "name": "stdout",
     "output_type": "stream",
     "text": [
      "accuracy per electrode: \n",
      "[0.56538954 0.61906441 0.56547907 0.53627297 0.62726176 0.63844332\n",
      " 0.62754452 0.46771229 0.66217535 0.62216783 0.525812   0.64685687\n",
      " 0.64450243 0.66890614 0.66811864 0.66727856 0.6315827  0.66445542\n",
      " 0.48543301 0.61501482 0.67165504 0.6332565  0.54600704 0.67566222\n",
      " 0.67749257 0.67586848 0.42749155 0.6819713  0.64510043 0.39853008\n",
      " 0.67679303 0.67429753 0.68257256 0.68452104 0.68540253 0.67418194\n",
      " 0.6811467  0.51020138]\n",
      "Test Error: \n",
      " Accuracy: 0.62%, Avg loss: 27007.998047 \n",
      "\n"
     ]
    }
   ],
   "source": [
    "# Evaluate on validation set\n",
    "X_val_tensor = torch.tensor(X_val, dtype=torch.float32)\n",
    "y_val_tensor = torch.tensor(y_val, dtype=torch.float32)\n",
    "\n",
    "# Make predictions on validation set\n",
    "model.eval()\n",
    "with torch.no_grad():\n",
    "    y_pred = model(X_val_tensor)\n",
    "    val_loss = criterion(y_pred, y_val_tensor).item()\n",
    "    \n",
    "    y_pred_np = y_pred.numpy().T\n",
    "    y_val_np = y_val_tensor.numpy().T\n",
    "    \n",
    "    corc = np.corrcoef(y_pred_np, y_val_np)\n",
    "    corc = (corc + 1) / 2\n",
    "    # average across rows\n",
    "    electrode_corc = np.mean(corc, axis=1)\n",
    "    print(\"accuracy per electrode: \")\n",
    "    print(electrode_corc)\n",
    "    overall_acc = np.mean(corc)\n",
    "    \n",
    "print(f\"Test Error: \\n Accuracy: {overall_acc:>0.2f}%, Avg loss: {val_loss:>8f} \\n\")"
   ]
  },
  {
   "cell_type": "code",
   "execution_count": null,
   "metadata": {},
   "outputs": [],
   "source": [
    "# instantiate the model\n",
    "input_size = X_tensor.size(1)  # 129 (ecog)\n",
    "output_size = y_tensor.size(1)  # 19 (eeg)\n",
    "preprocess_model = LinearRegressionModel(input_size, output_size)\n",
    "\n",
    "# define loss function and optimizer\n",
    "criterion = nn.MSELoss()\n",
    "optimizer = optim.SGD(model.parameters(), lr=0.001)"
   ]
  },
  {
   "cell_type": "code",
   "execution_count": null,
   "metadata": {},
   "outputs": [
    {
     "name": "stdout",
     "output_type": "stream",
     "text": [
      "[1.86497381e+00 1.47191709e+00 8.50478830e-01 7.50875894e-01\n",
      " 5.80616818e-01 4.70237210e-01 3.55315518e-01 3.39930883e-01\n",
      " 2.70407411e-01 2.47701444e-01 2.35061177e-01 2.16933061e-01\n",
      " 1.70456420e-01 1.65216661e-01 1.50048944e-01 1.39484509e-01\n",
      " 1.31086903e-01 1.29173955e-01 1.18667804e-01 1.10256812e-01\n",
      " 1.05977121e-01 9.92057762e-02 9.57938664e-02 9.39095685e-02\n",
      " 9.07827076e-02 7.98009666e-02 7.89195199e-02 7.64931137e-02\n",
      " 7.60816215e-02 7.35535961e-02 7.09645727e-02 6.87335302e-02\n",
      " 6.50639985e-02 6.32464649e-02 6.02993495e-02 5.96027582e-02\n",
      " 5.67170771e-02 5.42390583e-02 5.13187677e-02 5.02612356e-02\n",
      " 4.97971554e-02 4.84724445e-02 4.50505171e-02 4.29343250e-02\n",
      " 4.20487367e-02 4.02275088e-02 3.91327846e-02 3.87605412e-02\n",
      " 3.73842792e-02 3.59507662e-02 3.49486536e-02 3.45086065e-02\n",
      " 3.29091713e-02 3.18557621e-02 3.11240966e-02 2.96877561e-02\n",
      " 2.91093072e-02 2.88755928e-02 2.80198059e-02 2.70658650e-02\n",
      " 2.64657889e-02 2.59034363e-02 2.39880511e-02 2.38078886e-02\n",
      " 2.29428999e-02 2.27378598e-02 2.23594344e-02 2.13866443e-02\n",
      " 2.03788846e-02 1.95202777e-02 1.90243798e-02 1.87240163e-02\n",
      " 1.80655217e-02 1.74174199e-02 1.72338866e-02 1.69414770e-02\n",
      " 1.63908498e-02 1.55338802e-02 1.50219532e-02 1.47277570e-02\n",
      " 1.45793564e-02 1.41604807e-02 1.39532064e-02 1.36258487e-02\n",
      " 1.32266605e-02 1.29735593e-02 1.26464537e-02 1.22798326e-02\n",
      " 1.18785598e-02 1.11757896e-02 1.11067972e-02 1.07838164e-02\n",
      " 1.04974427e-02 1.02179403e-02 1.00343507e-02 9.78072250e-03\n",
      " 9.63627881e-03 9.30693802e-03 8.88942860e-03 8.50675570e-03\n",
      " 8.37629278e-03 8.07695327e-03 7.85692416e-03 7.53319423e-03\n",
      " 7.23332694e-03 6.92100032e-03 6.50754648e-03 6.45724698e-03\n",
      " 6.33925547e-03 6.14490753e-03 5.94089359e-03 5.71438785e-03\n",
      " 5.63266369e-03 5.23959033e-03 5.01544732e-03 4.61501231e-03\n",
      " 4.43710605e-03 4.06188516e-03 3.77884372e-03 3.46964075e-03\n",
      " 3.37498882e-03 3.06832373e-03 2.86059301e-03 2.50499087e-03\n",
      " 2.31108467e-03 2.02623876e-03 1.80900967e-03 1.17596476e-03\n",
      " 6.03733987e-04]\n",
      "[[ 0.06607904  0.10650423 -0.08680276 ... -0.02468982  0.02347648\n",
      "  -0.00055897]\n",
      " [ 0.07827503  0.09346082  0.03626097 ...  0.05887418 -0.06798866\n",
      "  -0.024243  ]\n",
      " [ 0.04307093  0.06426688  0.13245862 ... -0.10168195  0.07145767\n",
      "   0.01869517]\n",
      " ...\n",
      " [ 0.0447101   0.00965004  0.14900845 ... -0.06489582 -0.01346857\n",
      "  -0.11736992]\n",
      " [ 0.02165698  0.00427296  0.17163683 ...  0.05451497  0.09148252\n",
      "   0.0057693 ]\n",
      " [-0.00789124  0.00605217 -0.00408267 ...  0.01660182  0.0123904\n",
      "   0.01467538]]\n",
      "[1.90213094e+00 1.46262954e+00 8.49054032e-01 7.68687748e-01\n",
      " 5.70261685e-01 4.64416530e-01 3.74633016e-01 3.32867146e-01\n",
      " 2.64271020e-01 2.45625824e-01 2.36228611e-01 2.13769407e-01\n",
      " 1.75673664e-01 1.69501100e-01 1.51626831e-01 1.44452177e-01\n",
      " 1.34150329e-01 1.31882615e-01 1.19174842e-01 1.12314195e-01\n",
      " 1.06687886e-01 9.83255311e-02 9.75884726e-02 9.23417361e-02\n",
      " 8.73987269e-02 8.30989590e-02 8.17554075e-02 7.82172977e-02\n",
      " 7.41109044e-02 7.30966356e-02 7.05773886e-02 6.97013886e-02\n",
      " 6.48888727e-02 6.32873769e-02 5.98814313e-02 5.93723581e-02\n",
      " 5.47628155e-02 5.33906931e-02 5.27039131e-02 5.11609113e-02\n",
      " 4.91733913e-02 4.69399468e-02 4.34314017e-02 4.24422148e-02\n",
      " 4.15547886e-02 4.01257069e-02 3.88235470e-02 3.82264626e-02\n",
      " 3.75373713e-02 3.55910413e-02 3.50811031e-02 3.42258891e-02\n",
      " 3.36504213e-02 3.18326407e-02 3.08938101e-02 3.01511163e-02\n",
      " 2.93769234e-02 2.90829085e-02 2.78095433e-02 2.73775913e-02\n",
      " 2.61913405e-02 2.58211177e-02 2.42415661e-02 2.32857765e-02\n",
      " 2.24962303e-02 2.21438914e-02 2.11069663e-02 1.98616863e-02\n",
      " 1.97235333e-02 1.93568842e-02 1.85898637e-02 1.83344868e-02\n",
      " 1.78910342e-02 1.73837936e-02 1.69909097e-02 1.66399113e-02\n",
      " 1.57302304e-02 1.48724994e-02 1.47497047e-02 1.44148597e-02\n",
      " 1.40904655e-02 1.39283085e-02 1.34296261e-02 1.31558271e-02\n",
      " 1.29383937e-02 1.26675744e-02 1.21319444e-02 1.18443847e-02\n",
      " 1.11979075e-02 1.07531487e-02 1.05612021e-02 1.03918789e-02\n",
      " 1.02136629e-02 1.01273502e-02 9.54763603e-03 9.47277937e-03\n",
      " 9.09610844e-03 9.04247435e-03 8.70704844e-03 8.30145415e-03\n",
      " 8.03735355e-03 7.70734289e-03 7.46034204e-03 7.05665423e-03\n",
      " 6.95508406e-03 6.71036251e-03 6.34558280e-03 6.09063964e-03\n",
      " 5.92477544e-03 5.79070151e-03 5.69879224e-03 5.56247169e-03\n",
      " 5.04288545e-03 4.83675179e-03 4.66586133e-03 4.38566364e-03\n",
      " 4.28569437e-03 3.96317784e-03 3.67321896e-03 3.39488383e-03\n",
      " 3.21539631e-03 2.91374321e-03 2.70428913e-03 2.41331750e-03\n",
      " 2.13714383e-03 1.89876643e-03 1.66438255e-03 1.11227834e-03\n",
      " 5.80256052e-04]\n",
      "[[ 0.06245741  0.10183319  0.09624215 ...  0.04287752 -0.00166772\n",
      "   0.00413599]\n",
      " [ 0.08746214  0.09388039 -0.01946867 ... -0.00617186 -0.03418644\n",
      "   0.06036497]\n",
      " [ 0.05155952  0.07402599 -0.11903333 ...  0.01891747  0.05768619\n",
      "  -0.03638491]\n",
      " ...\n",
      " [ 0.0549828   0.01789422 -0.14517997 ...  0.15754989 -0.16843334\n",
      "  -0.18773508]\n",
      " [ 0.03634626  0.01362966 -0.16861642 ... -0.14310656 -0.00058527\n",
      "   0.07981677]\n",
      " [-0.0086119   0.00603695  0.00638894 ...  0.01310432 -0.00836114\n",
      "   0.00571328]]\n",
      "129\n",
      "19\n"
     ]
    }
   ],
   "source": [
    "# possible hyperparameters\n",
    "low_bound = 0.5\n",
    "high_bound = 45\n",
    "sampling_rate = 1000\n",
    "\n",
    "# bandwidth_butterworth_filter\n",
    "X_train_filtered = dp.butter_bandpass_filter(X_train.T, low_bound, high_bound, sampling_rate)\n",
    "X_val_filtered = dp.butter_bandpass_filter(X_val.T, low_bound, high_bound, sampling_rate)\n",
    "\n",
    "# PCA whitening\n",
    "X_train_w = dp.whitening(X_train_filtered.T)\n",
    "X_val_w = dp.whitening(X_val_filtered.T)\n",
    "\n",
    "# Convert numpy arrays to PyTorch tensors\n",
    "X_tensor = torch.tensor(X_train_w.T, dtype=torch.float32)\n",
    "y_tensor = torch.tensor(y_train, dtype=torch.float32)\n",
    "\n",
    "print(X_tensor.size(1))\n",
    "print(y_tensor.size(1))\n",
    "# create DataLoader for batch processing\n",
    "processed_dataset = TensorDataset(X_tensor, y_tensor)\n",
    "processed_dataloader = DataLoader(dataset, batch_size=64)\n",
    "\n"
   ]
  },
  {
   "cell_type": "code",
   "execution_count": null,
   "metadata": {},
   "outputs": [
    {
     "name": "stdout",
     "output_type": "stream",
     "text": [
      "Epoch [10/200], Loss: 27155.2396\n",
      "Epoch [20/200], Loss: 27153.7259\n",
      "Epoch [30/200], Loss: 27152.3286\n",
      "Epoch [40/200], Loss: 27151.0348\n",
      "Epoch [50/200], Loss: 27149.8349\n",
      "Epoch [60/200], Loss: 27148.7193\n",
      "Epoch [70/200], Loss: 27147.6804\n"
     ]
    },
    {
     "ename": "KeyboardInterrupt",
     "evalue": "",
     "output_type": "error",
     "traceback": [
      "\u001b[0;31m---------------------------------------------------------------------------\u001b[0m",
      "\u001b[0;31mKeyboardInterrupt\u001b[0m                         Traceback (most recent call last)",
      "Cell \u001b[0;32mIn[12], line 8\u001b[0m\n\u001b[1;32m      5\u001b[0m epoch_loss \u001b[38;5;241m=\u001b[39m \u001b[38;5;241m0.0\u001b[39m\n\u001b[1;32m      6\u001b[0m \u001b[38;5;28;01mfor\u001b[39;00m inputs, labels \u001b[38;5;129;01min\u001b[39;00m processed_dataloader:\n\u001b[1;32m      7\u001b[0m     \u001b[38;5;66;03m# Forward pass\u001b[39;00m\n\u001b[0;32m----> 8\u001b[0m     outputs \u001b[38;5;241m=\u001b[39m \u001b[43mmodel\u001b[49m\u001b[43m(\u001b[49m\u001b[43minputs\u001b[49m\u001b[43m)\u001b[49m\n\u001b[1;32m      9\u001b[0m     loss \u001b[38;5;241m=\u001b[39m criterion(outputs, labels)\n\u001b[1;32m     11\u001b[0m     \u001b[38;5;66;03m# Backward pass and optimization\u001b[39;00m\n",
      "File \u001b[0;32m~/miniconda3/envs/mynlpenv/lib/python3.8/site-packages/torch/nn/modules/module.py:889\u001b[0m, in \u001b[0;36mModule._call_impl\u001b[0;34m(self, *input, **kwargs)\u001b[0m\n\u001b[1;32m    887\u001b[0m     result \u001b[38;5;241m=\u001b[39m \u001b[38;5;28mself\u001b[39m\u001b[38;5;241m.\u001b[39m_slow_forward(\u001b[38;5;241m*\u001b[39m\u001b[38;5;28minput\u001b[39m, \u001b[38;5;241m*\u001b[39m\u001b[38;5;241m*\u001b[39mkwargs)\n\u001b[1;32m    888\u001b[0m \u001b[38;5;28;01melse\u001b[39;00m:\n\u001b[0;32m--> 889\u001b[0m     result \u001b[38;5;241m=\u001b[39m \u001b[38;5;28;43mself\u001b[39;49m\u001b[38;5;241;43m.\u001b[39;49m\u001b[43mforward\u001b[49m\u001b[43m(\u001b[49m\u001b[38;5;241;43m*\u001b[39;49m\u001b[38;5;28;43minput\u001b[39;49m\u001b[43m,\u001b[49m\u001b[43m \u001b[49m\u001b[38;5;241;43m*\u001b[39;49m\u001b[38;5;241;43m*\u001b[39;49m\u001b[43mkwargs\u001b[49m\u001b[43m)\u001b[49m\n\u001b[1;32m    890\u001b[0m \u001b[38;5;28;01mfor\u001b[39;00m hook \u001b[38;5;129;01min\u001b[39;00m itertools\u001b[38;5;241m.\u001b[39mchain(\n\u001b[1;32m    891\u001b[0m         _global_forward_hooks\u001b[38;5;241m.\u001b[39mvalues(),\n\u001b[1;32m    892\u001b[0m         \u001b[38;5;28mself\u001b[39m\u001b[38;5;241m.\u001b[39m_forward_hooks\u001b[38;5;241m.\u001b[39mvalues()):\n\u001b[1;32m    893\u001b[0m     hook_result \u001b[38;5;241m=\u001b[39m hook(\u001b[38;5;28mself\u001b[39m, \u001b[38;5;28minput\u001b[39m, result)\n",
      "Cell \u001b[0;32mIn[5], line 8\u001b[0m, in \u001b[0;36mLinearRegressionModel.forward\u001b[0;34m(self, x)\u001b[0m\n\u001b[1;32m      7\u001b[0m \u001b[38;5;28;01mdef\u001b[39;00m \u001b[38;5;21mforward\u001b[39m(\u001b[38;5;28mself\u001b[39m, x):\n\u001b[0;32m----> 8\u001b[0m     \u001b[38;5;28;01mreturn\u001b[39;00m \u001b[38;5;28;43mself\u001b[39;49m\u001b[38;5;241;43m.\u001b[39;49m\u001b[43mlinear\u001b[49m\u001b[43m(\u001b[49m\u001b[43mx\u001b[49m\u001b[43m)\u001b[49m\n",
      "\u001b[0;31mKeyboardInterrupt\u001b[0m: "
     ]
    }
   ],
   "source": [
    "# Training loop PREPROCESSED DATA\n",
    "num_epochs = 200\n",
    "loss_values = []\n",
    "for epoch in range(num_epochs):\n",
    "    epoch_loss = 0.0\n",
    "    for inputs, labels in processed_dataloader:\n",
    "        # Forward pass\n",
    "        outputs = model(inputs)\n",
    "        loss = criterion(outputs, labels)\n",
    "        \n",
    "        # Backward pass and optimization\n",
    "        optimizer.zero_grad()\n",
    "        loss.backward()\n",
    "        optimizer.step()\n",
    "\n",
    "        epoch_loss += loss.item()\n",
    "\n",
    "    # Calculate average loss and mse for the epoch\n",
    "    epoch_loss /= len(processed_dataloader)\n",
    "\n",
    "    # Append the loss values to the lists\n",
    "    loss_values.append(epoch_loss)\n",
    "\n",
    "    # Print progress\n",
    "    if (epoch+1) % 10 == 0:\n",
    "        print(f'Epoch [{epoch+1}/{num_epochs}], Loss: {epoch_loss:.4f}')"
   ]
  },
  {
   "cell_type": "code",
   "execution_count": null,
   "metadata": {},
   "outputs": [
    {
     "data": {
      "image/png": "[encoded data removed]",
      "text/plain": [
       "<Figure size 1000x500 with 1 Axes>"
      ]
     },
     "metadata": {},
     "output_type": "display_data"
    }
   ],
   "source": [
    "# Plot loss function\n",
    "plt.figure(figsize=(10, 5))\n",
    "plt.subplot(1, 2, 1)\n",
    "plt.plot(range(1, 25 + 1), loss_values[:25], label='Loss')\n",
    "plt.xlabel('Epoch')\n",
    "plt.ylabel('Loss')\n",
    "plt.title('Pre-process Training Loss')\n",
    "plt.show()"
   ]
  },
  {
   "cell_type": "code",
   "execution_count": null,
   "metadata": {},
   "outputs": [
    {
     "name": "stdout",
     "output_type": "stream",
     "text": [
      "accuracy per electrode: \n",
      "[0.59821239 0.64762219 0.61734214 0.57280512 0.64983227 0.64990679\n",
      " 0.64537307 0.41887121 0.64334963 0.58250406 0.39660444 0.65128125\n",
      " 0.64949378 0.65799558 0.65738152 0.65727894 0.6507965  0.65465697\n",
      " 0.51653187 0.59764491 0.65269095 0.61955781 0.54132001 0.65496216\n",
      " 0.65750945 0.65413003 0.43230688 0.65892695 0.60972831 0.3931737\n",
      " 0.65496369 0.65300858 0.65914819 0.65909323 0.65889404 0.65476705\n",
      " 0.6568584  0.51152749]\n",
      "Test Error: \n",
      " Accuracy: 0.6078%, Avg loss: 28152.369141 \n",
      "\n"
     ]
    }
   ],
   "source": [
    "# Evaluate on validation set\n",
    "X_val_tensor = torch.tensor(X_val, dtype=torch.float32)\n",
    "y_val_tensor = torch.tensor(y_val, dtype=torch.float32)\n",
    "\n",
    "# Make predictions on validation set\n",
    "model.eval()\n",
    "with torch.no_grad():\n",
    "    y_pred = model(X_val_tensor)\n",
    "    val_loss = criterion(y_pred, y_val_tensor).item()\n",
    "    \n",
    "    y_pred_np = y_pred.numpy().T\n",
    "    y_val_np = y_val_tensor.numpy().T\n",
    "    \n",
    "    corc = np.corrcoef(y_pred_np, y_val_np)\n",
    "    corc = (corc + 1) / 2\n",
    "    # average across rows\n",
    "    electrode_corc = np.mean(corc, axis=1)\n",
    "    print(\"accuracy per electrode: \")\n",
    "    print(electrode_corc)\n",
    "    overall_acc = np.mean(corc)\n",
    "    \n",
    "print(f\"Test Error: \\n Accuracy: {overall_acc:>0.4f}%, Avg loss: {val_loss:>8f} \\n\")"
   ]
  }
 ],
 "metadata": {
  "kernelspec": {
   "display_name": "misinfoenv",
   "language": "python",
   "name": "python3"
  },
  "language_info": {
   "codemirror_mode": {
    "name": "ipython",
    "version": 3
   },
   "file_extension": ".py",
   "mimetype": "text/x-python",
   "name": "python",
   "nbconvert_exporter": "python",
   "pygments_lexer": "ipython3",
   "version": "3.12.3"
  }
 },
 "nbformat": 4,
 "nbformat_minor": 2
}
